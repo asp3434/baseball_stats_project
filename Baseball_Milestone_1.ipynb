{
 "cells": [
  {
   "attachments": {},
   "cell_type": "markdown",
   "metadata": {},
   "source": [
    "# Baseball Proposal Milestone 1"
   ]
  },
  {
   "attachments": {},
   "cell_type": "markdown",
   "metadata": {},
   "source": [
    "## 1) Basic Information  ##\n",
    "Title: Baseball Data Analysis and Predictive Analytics <br>\n",
    "Group Member: Dallen Unruh, u6003470@umail.utah.edu, u6003470 <br>\n",
    "Group Member: Drew Prescott, u0584882@umail.utah.edu, u0584882 <br>\n",
    "Group Member: Alexander Falk, u1366918@umail.utah.edu, u1366918 <br>"
   ]
  },
  {
   "attachments": {},
   "cell_type": "markdown",
   "metadata": {},
   "source": [
    "## 2) Project Description: project a high-level project description (1 paragraph)  ##\n",
    "\n",
    "The goal of this project is to see how accurately we can train a model to predict the baseball world series winner given a certain number of games. We will train the model off of batting and pitching data from the past 22 seasons' World Series winner, runner up, 15th seed, 16th seed, and bottom two teams.\n",
    "\n",
    "Questions to answer:\n",
    " - With what accuracy can we predict a world series winner given a certain number of game data?\n",
    " - How does the accuracy of the prediction increase while increasing the number of game data used?\n",
    " - Which data helps most to predict the world series winner?\n",
    " - Which data helps the least in predicting a world series winner?"
   ]
  },
  {
   "attachments": {},
   "cell_type": "markdown",
   "metadata": {},
   "source": [
    "## 3) Data and Data Description: provide a data description (1/2 page) and the acquired and cleaned data      ##\n",
    "Included in the .zip folder are multiple .csv files. Each .csv file gives game log data for one team, for one year. The teams and years were chosen such that we have data since the year 2000 (excluding 2020 since that year may be an outlier due to the pandemic) for 6 teams each year (the World Series Champion, the runner-up, the 15th seed, the 16th seed, and the bottom two teams). Included in the game log data is information on batting and pitching. Examples of batting data include Plate Appearances, At Bats, Runs scored, Hits allowed, and around 21 other data points for that game. Included in the pitching data is Innings Pitched, Hits Allowed, Earned Runs allowed, Bases on Balls, and around 21 other data points for that game."
   ]
  },
  {
   "attachments": {},
   "cell_type": "markdown",
   "metadata": {},
   "source": [
    "## 4) Ethical Data Concerns (1/2 page) ##"
   ]
  },
  {
   "attachments": {},
   "cell_type": "markdown",
   "metadata": {},
   "source": [
    "## 5) Methods: sketches of your analysis methods (1 page)  ##"
   ]
  },
  {
   "attachments": {},
   "cell_type": "markdown",
   "metadata": {},
   "source": [
    "## 6) Preliminary results: preliminary results and efforts already put towards the project (1 - 3 pages)  ##\n"
   ]
  },
  {
   "attachments": {},
   "cell_type": "markdown",
   "metadata": {},
   "source": [
    "## 7) Peer feedback (1/2 - 1 page)  ##\n",
    "Taylor Caulks\n",
    "Melissa Frisby\n",
    "Xander Lehnardt"
   ]
  },
  {
   "attachments": {},
   "cell_type": "markdown",
   "metadata": {},
   "source": [
    "## 8) A list of completed milestones: What steps mentioned in the proposals have you implemented?  ##\n"
   ]
  },
  {
   "attachments": {},
   "cell_type": "markdown",
   "metadata": {},
   "source": [
    "## 9) A list of upcoming milestones: What is left to be implemented given the current progress of the project?  ##\n"
   ]
  },
  {
   "attachments": {},
   "cell_type": "markdown",
   "metadata": {},
   "source": [
    "## 10) Potential modification to the project, justification, and updated milestones (optional, 1/2 page)  ##\n"
   ]
  },
  {
   "attachments": {},
   "cell_type": "markdown",
   "metadata": {},
   "source": [
    "## 11) Summary (1/4 page)##\n"
   ]
  },
  {
   "attachments": {},
   "cell_type": "markdown",
   "metadata": {},
   "source": [
    "## 4) Assessment  ##\n",
    "Yes, the project is on track."
   ]
  }
 ],
 "metadata": {
  "language_info": {
   "name": "python"
  },
  "orig_nbformat": 4
 },
 "nbformat": 4,
 "nbformat_minor": 2
}
