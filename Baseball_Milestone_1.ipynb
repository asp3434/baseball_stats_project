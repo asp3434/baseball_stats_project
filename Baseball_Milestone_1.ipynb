{
 "cells": [
  {
   "attachments": {},
   "cell_type": "markdown",
   "metadata": {},
   "source": [
    "# Baseball Proposal Milestone 1"
   ]
  },
  {
   "attachments": {},
   "cell_type": "markdown",
   "metadata": {},
   "source": [
    "## 1) Basic Information  ##\n",
    "Title: Baseball Data Analysis and Predictive Analytics <br>\n",
    "Group Member: Dallen Unruh, u6003470@umail.utah.edu, u6003470 <br>\n",
    "Group Member: Drew Prescott, u0584882@umail.utah.edu, u0584882 <br>\n",
    "Group Member: Alexander Falk, u1366918@umail.utah.edu, u1366918 <br>"
   ]
  },
  {
   "attachments": {},
   "cell_type": "markdown",
   "metadata": {},
   "source": [
    "## 2) Project Description\n",
    "\n",
    "The goal of this project is to see how accurately we can train a model to predict the baseball world series winner given a certain number of games. We will train the model off of batting and pitching data from the past 22 seasons' World Series winner, runner up, 15th seed, 16th seed, and bottom two teams.\n",
    "\n",
    "Questions to answer:\n",
    " - With what accuracy can we predict a world series winner given a certain number of game data?\n",
    " - How does the accuracy of the prediction increase while increasing the number of game data used?\n",
    " - Which data helps most to predict the world series winner?\n",
    " - Which data helps the least in predicting a world series winner?"
   ]
  },
  {
   "attachments": {},
   "cell_type": "markdown",
   "metadata": {},
   "source": [
    "## 3) Data and Data Description\n",
    "Included in the .zip folder are multiple .json files. Each .json file gives game log data for one team, for one year, and has either the batting or pitching data (i.e. one team for one year has two .json files, one for pitching and one for batting). The teams and years were chosen such that we have data since the year 2000 (excluding 2020 since that year may be an outlier due to the pandemic) for 6 teams each year: the World Series Champion, the runner-up, the 15th seed, the 16th seed, and the bottom two teams. Examples of batting data include Plate Appearances, At Bats, Runs scored, Hits allowed, and around 21 other data points for that game. Included in the pitching data is Innings Pitched, Hits Allowed, Earned Runs allowed, Bases on Balls, and around 21 other data points for that game."
   ]
  },
  {
   "attachments": {},
   "cell_type": "markdown",
   "metadata": {},
   "source": [
    "## 4) Ethical Data Concerns\n",
    "Our data is all publicly available and there is no issue with our use of it, however, there are some ethical concerns to be considered. The primary ethical concern being whether people will use our model to gamble which has the possibility to exacerbate an addiction.\n",
    "\n",
    "The data we are using comes from a publicly accessible website, “baseball-reference.com”, which hosts many datasets of previous league & player data. According to the \"baseball-reference.com\" user agreement, we are allowed to crawl and scrape their data, provided we do not exceed 20 requests per minute. We are utilizing game data along with rankings for competitions in the past 23 years. Our program will be analyzing this data and attempting to discover what traits specifically can indicate a team’s success, and potentially be able to predict a winner based on the first few games of a season. \n",
    "\n",
    "While our results cannot be used maliciously, there is one glaring problem; gambling. If our program does its job well enough, gamblers could utilize it to gain insight into the potential winners of a season, making for easy bets that could have ludicrous returns. Whether this is a problem or not depends on your view of gambling, but it would definitely be enticing and potentially give an unfair advantage. In addition to providing an unfair advantage, the model could create an addiction to gambling which would be detrimental to the person's social and emotial well-being."
   ]
  },
  {
   "attachments": {},
   "cell_type": "markdown",
   "metadata": {},
   "source": [
    "## 5) Methods\n",
    " To simplify the classification of a team as a world series champion, we will need to decide which variables show the highest correlation to success. We believe that it will be most useful to use clustering and the K-nearest neighbor classificaiton method. We plan on plotting each batting and pitching variable against the other batting and pitching variables where each point is colored according to whether it is a statistic from a world series champion, runner-up, middle team, or worst team. This will allow us to easily visualize the data that groups together and are the strongest predictors of a championship team. Once we have used this visual method, we will narrow in on a few key variables and build our model using those statistics and k-NN classification method."
   ]
  },
  {
   "attachments": {},
   "cell_type": "markdown",
   "metadata": {},
   "source": [
    "## 6) Preliminary results\n",
    "So far we have scraped and cleaned all the data that we will need. We have not analyzed any of the data yet. The data that we have scraped includes the following:\n",
    " \n",
    " - Teams for each year from 2000-2022, excluding 2020 in each of the following categories:\n",
    "   - World Series championship team statistics\n",
    "   - 15th ranked team statistics\n",
    "   - 16th ranked team statistics\n",
    "   - 29th ranked team statistics\n",
    "   - 30th ranked team statistics\n",
    " - Stats from every game of each of the teams/years, one dataframe for batting and another for pitching"
   ]
  },
  {
   "attachments": {},
   "cell_type": "markdown",
   "metadata": {},
   "source": [
    "## 7) Peer feedback \n",
    "People giving feedback: Taylor Cox, Melissa Frisby, Xander Lehnart\n",
    "\n",
    "Our feedback committee suggested that as we begin collecting data, we should either strive to acquire more years and less data each year or less years and more data for that year. The idea behind this is that we should try to narrow the scope of our work and answer a few key questions rather than over-extending ourselves and trying to answer too many questions. We elected to follow their advice and cut out getting the game logs for each player of each team. Instead, we are scraping the game logs for the team as a whole and adding an additional 20 years of data (2000-2022 as opposed to 2019-2022). \n",
    "\n",
    "Along those same lines of narrowing our scope, the feedback committee suggested that we split the questions into \"required\" and \"optional.\" Originally, we were planning on trying to predict the MVP and Cy Young award winners in addition to predicting the World Series winner. Based on their feedback, we will focus on training the data for the World Series winner and the other two will be optional.\n",
    "\n",
    "They stated that our decision to remove 2020 from the training/testing data was a smart decision because of the circumstances surrounding COVID-19. It's hard to say whether that year had abnormal stats, although it could be interesting to analyze the difference between averages in 2020 compared to other years.\n",
    "\n",
    "Lastly, the committee asked us whether we should consider steroid use in the early 2000's as we perform analysis. We decided that it would be too difficult to account for this at this stage of the project. There is also a good chance that players are still using PEDs today, but technology has improved to be better at hiding it."
   ]
  },
  {
   "attachments": {},
   "cell_type": "markdown",
   "metadata": {},
   "source": [
    "## 8) A list of completed milestones\n",
    " - Data scraping and crawling\n",
    " - Data cleaning\n",
    " - Project planning and refining"
   ]
  },
  {
   "attachments": {},
   "cell_type": "markdown",
   "metadata": {},
   "source": [
    "## 9) A list of upcoming milestones: What is left to be implemented given the current progress of the project?  ##\n",
    "We are probably about 30% done with our project. With this milestone, we are done with acquiring and cleaning the data. This means we can start to analyze the data and write the remainder of the program. Our next milestone will be to figure out what stats have significant value and to what degree they are weighted. Our final milestone would be to have accurate training and testing models based on these stats and their values.\n",
    "Milestones to be completed:\n",
    " - Analysis of most significant variables\n",
    " - Training the dataset\n",
    " - Testing the dataset"
   ]
  },
  {
   "attachments": {},
   "cell_type": "markdown",
   "metadata": {},
   "source": [
    "## 10) Potential modification to the project, justification, and updated milestones\n",
    "All modifications to the original project proposal have been included in previous sections of this milestone. They are all primarily related to narrowing the scope of our project, including data acquisition and analysis methods."
   ]
  },
  {
   "attachments": {},
   "cell_type": "markdown",
   "metadata": {},
   "source": [
    "## 11) Summary\n",
    "We have made major progress including narrowing the scope of data collection, narrowing the scope of the analysis to be performed, and performing the data acquisition and cleaning. Additionally, we have taken the time to refine the project by better defining the questions that we want to answer. We have implemented the changes that were suggested by our feedback committee. Now that data collection is complete, the next steps are to perform the analysis, training, and testing of the model. "
   ]
  },
  {
   "attachments": {},
   "cell_type": "markdown",
   "metadata": {},
   "source": [
    "## 12) Assessment\n",
    "Yes, the project is on track."
   ]
  },
  {
   "cell_type": "markdown",
   "metadata": {},
   "source": []
  }
 ],
 "metadata": {
  "language_info": {
   "name": "python"
  },
  "orig_nbformat": 4
 },
 "nbformat": 4,
 "nbformat_minor": 2
}
