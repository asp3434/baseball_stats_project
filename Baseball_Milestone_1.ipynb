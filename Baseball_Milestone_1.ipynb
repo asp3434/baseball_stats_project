{
 "cells": [
  {
   "attachments": {},
   "cell_type": "markdown",
   "metadata": {},
   "source": [
    "# Baseball Proposal Milestone 1"
   ]
  },
  {
   "attachments": {},
   "cell_type": "markdown",
   "metadata": {},
   "source": [
    "## 1) Basic Information  ##\n",
    "Title: Baseball Data Analysis and Predictive Analytics <br>\n",
    "Group Member: Dallen Unruh, u6003470@umail.utah.edu, u6003470 <br>\n",
    "Group Member: Drew Prescott, u0584882@umail.utah.edu, u0584882 <br>\n",
    "Group Member: Alexander Falk, u1366918@umail.utah.edu, u1366918 <br>"
   ]
  },
  {
   "attachments": {},
   "cell_type": "markdown",
   "metadata": {},
   "source": [
    "## 2) Project Description: project a high-level project description (1 paragraph)  ##\n",
    "\n",
    "The goal of this project is to see how accurately we can train a model to predict the baseball world series winner given a certain number of games. We will train the model off of batting and pitching data from the past 22 seasons' World Series winner, runner up, 15th seed, 16th seed, and bottom two teams.\n",
    "\n",
    "Questions to answer:\n",
    " - With what accuracy can we predict a world series winner given a certain number of game data?\n",
    " - How does the accuracy of the prediction increase while increasing the number of game data used?\n",
    " - Which data helps most to predict the world series winner?\n",
    " - Which data helps the least in predicting a world series winner?"
   ]
  },
  {
   "attachments": {},
   "cell_type": "markdown",
   "metadata": {},
   "source": [
    "## 3) Data and Data Description: provide a data description (1/2 page) and the acquired and cleaned data      ##\n",
    "Included in the .zip folder are multiple .csv files. Each .csv file gives game log data for one team, for one year. The teams and years were chosen such that we have data since the year 2000 (excluding 2020 since that year may be an outlier due to the pandemic) for 6 teams each year (the World Series Champion, the runner-up, the 15th seed, the 16th seed, and the bottom two teams). Included in the game log data is information on batting and pitching. Examples of batting data include Plate Appearances, At Bats, Runs scored, Hits allowed, and around 21 other data points for that game. Included in the pitching data is Innings Pitched, Hits Allowed, Earned Runs allowed, Bases on Balls, and around 21 other data points for that game."
   ]
  },
  {
   "attachments": {},
   "cell_type": "markdown",
   "metadata": {},
   "source": [
    "## 4) Ethical Data Concerns (1/2 page) ##\n",
    "Our data is all publicly available and there is no issue with our use of it, however, there are some ethical concerns to be considered. To start, let's quickly go over what our data is and is being used for.\n",
    "\n",
    "The data we are using comes from a publicly accessible website, “baseball-reference.com”, which hosts many datasets of previous league & player data. We are utilizing game data along with rankings for competitions in the past 23 years. Our program will be analyzing this data and attempting to discover what traits specifically can indicate a team’s success, and potentially be able to predict a winner based on the first few games of a season. \n",
    "\n",
    "Now, the ethical concern. While our results cannot be used maliciously, there is one glaring problem; gambling. If our program does its job well enough, gamblers could utilize it to gain insight into the potential winners of a season, making for easy bets that could have ludicrous returns. Whether this is a problem or not depends on your view of gambling and to what degree you agree with research, but it would definitely be enticing and potentially give an unfair advantage."
   ]
  },
  {
   "attachments": {},
   "cell_type": "markdown",
   "metadata": {},
   "source": [
    "## 5) Methods: sketches of your analysis methods (1 page)  ##\n",
    " To simplify the classification of a team as a world series champion type of team, we will need to decide which variables show the highest correlation in champion teams. This will be done be creating a correlation matrix with all of the pitching and batting data on either axis. We will create a heat map to be able to visualize the correlation matrix and we will be able to decide which variables are most correlated with the world series champions. Next, we will use these predictor variables to create classification models. We believe that it will be useful to use both the K-nearest neighbor classificaiton method and the decision tree model. By trial and error we can decide which variables are the best and which model gives us the highest accuracy. We will use cross validation with both of these methods to deteermine accuracy.\n",
    "\n",
    " # Take this out if we dont need it this was just in our proposal so i pasted it here\n",
    " - Correlation matrices\n",
    " - Heat maps\n",
    " - Linear regression models\n",
    " - Multi-linear regression models\n",
    " - K-Nearest Neighbor/Decision tree classification models"
   ]
  },
  {
   "attachments": {},
   "cell_type": "markdown",
   "metadata": {},
   "source": [
    "## 6) Preliminary results: preliminary results and efforts already put towards the project (1 - 3 pages)  ##\n"
   ]
  },
  {
   "attachments": {},
   "cell_type": "markdown",
   "metadata": {},
   "source": [
    "## 7) Peer feedback (1/2 - 1 page)  ##\n",
    "Taylor Caulks\n",
    "Melissa Frisby\n",
    "Xander Lehnardt\n",
    "\n",
    "During our feedback session we were given several suggestions on how we could improve our project. They believed that the scope of our project was not broad enough to get accurate predictions of the world series champion. We originally thought about only taking the data from the last 3 years. Even though we planned on taking more data by not only taking team averages but individual player statistics per game, only three years of data would not be a big enough sample size to get an accurate model to predict the world series champion. Our peer reviewers helped us broaden our scope to 22 years of data, and just take team stats per game.\n",
    "\n",
    "Another aspect of our project that our peer reviewers helped us narrow-in on is that they helped us decide on only predicting the world series champion. Initially we believed that we would try to predict the MVP and the recipient of the Ty Young award, since we decided to change what data we would collect, these two things would cause us to stray from our other goal and we figured it would be worth while to take an in depth look at one thing, rather than spread ourselves thin or multiple topics."
   ]
  },
  {
   "attachments": {},
   "cell_type": "markdown",
   "metadata": {},
   "source": [
    "## 8) A list of completed milestones: What steps mentioned in the proposals have you implemented?  ##\n",
    "We are probably about 30% done with our project. With this milestone, we are done with acquiring data and cleaning it."
   ]
  },
  {
   "attachments": {},
   "cell_type": "markdown",
   "metadata": {},
   "source": [
    "## 9) A list of upcoming milestones: What is left to be implemented given the current progress of the project?  ##\n",
    "Now that we have the data we can start to analyze it and write the programs that will execute our methods. Our next milestone would likely be to figure out what stats have significant value and to what degree they are weighted. Our final milestone would be to have accurate predictions based on these stats and their values."
   ]
  },
  {
   "attachments": {},
   "cell_type": "markdown",
   "metadata": {},
   "source": [
    "## 10) Potential modification to the project, justification, and updated milestones (optional, 1/2 page)  ##\n"
   ]
  },
  {
   "attachments": {},
   "cell_type": "markdown",
   "metadata": {},
   "source": [
    "## 11) Summary (1/4 page)##\n"
   ]
  },
  {
   "attachments": {},
   "cell_type": "markdown",
   "metadata": {},
   "source": [
    "## 4) Assessment  ##\n",
    "Yes, the project is on track."
   ]
  }
 ],
 "metadata": {
  "language_info": {
   "name": "python"
  },
  "orig_nbformat": 4
 },
 "nbformat": 4,
 "nbformat_minor": 2
}
