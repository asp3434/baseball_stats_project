{
 "cells": [
  {
   "attachments": {},
   "cell_type": "markdown",
   "metadata": {},
   "source": [
    "# Baseball Proposal"
   ]
  },
  {
   "attachments": {},
   "cell_type": "markdown",
   "metadata": {},
   "source": [
    "## - Basic Information - ##\n",
    "Title: Baseball Data Analysis and Predictive Analytics <br>\n",
    "Group Member: Dallen Unruh, u6003470@umail.utah.edu, u6003470 <br>\n",
    "Group Member: Drew Prescott, u0584882@umail.utah.edu, u0584882 <br>\n",
    "Group Member: Alexander Falk, u1366918@umail.utah.edu, u1366918 <br>"
   ]
  },
  {
   "attachments": {},
   "cell_type": "markdown",
   "metadata": {},
   "source": [
    "## - Background and Motivation - ##\n",
    "Baseball teams in the MLB play 162 games each year in the regular season. This means that there is an extremeley large amount of data that can be analyzed compared to other sports that play 82 games (NBA) and 17 games (NFL) during the regular season. A large amount of data on each individual player can help us draw statistical conclusions that we would not be able to with half or an eighth of the data. Sports are a big part of our lives and it would be fun to look farther into the data rather than just listening to the newscasters. We are interested in looking into predictive analytics by analyzing past years data and applying it to the current season. Additionally, having access to this much public data makes scraping easier and reduces ethical concerns that other projects may have. "
   ]
  },
  {
   "attachments": {},
   "cell_type": "markdown",
   "metadata": {},
   "source": [
    "### - Project Objectives - ###\n",
    "The goal of this project is to create a baseball stats project to attempt to identify the top 5 most likely teams to win the World Series and top 5 most likely players to win the MVP award and Cy Young award. We will then build a model off these predictors and compare the results to the worst teams in the league for that year. \n",
    "\n",
    "Questions to answer:\n",
    " - What data can best predict the winning MLB team?\n",
    " - What data can best predict the winner of the MVP award?\n",
    " - What data can best predict the winner of the Cy Young award?\n",
    "\n",
    "One of the benefits of this project is learning how to analyze a complex system to extract meaningful conclusions. The code will be stored on Github so it can also provide a blueprint for other people who are seeking to learn more about data science. If the code and methods work, it may help baseball teams and players to identify and improve certain areas of their game."
   ]
  },
  {
   "attachments": {},
   "cell_type": "markdown",
   "metadata": {},
   "source": [
    "### - Data Description and Acquisition - ###\n",
    "Here is a link to the web pages that will give us the majority of our data:<br>\n",
    "https://www.mlb.com/stats/ <br>\n",
    "https://www.baseball-reference.com/\n",
    "\n",
    "Scrape the following data:\n",
    "\n",
    "1) Starting player statistics from the teams that won the World Series for the past three years, excluding the 2020 baseball season:\n",
    "    2019\n",
    "    2021\n",
    "    2022\n",
    "\n",
    "2) Starting player statistics from the teams with the the worst record to establish a baseline for what inhibits a team or player from achieving those awards, excluding the 2020 baseball season:\n",
    "    2019\n",
    "    2021\n",
    "    2022\n",
    "\n",
    "4) Batting data for the MVP award winner each year:\n",
    "    AL 2019 - Mike Trout\n",
    "    NL 2019 - Cody Bellinger\n",
    "    AL 2021 - Shohei Ohtani\n",
    "    NL 2021 - Bryce Harper\n",
    "    AL 2022 - Aaron Judge\n",
    "    NL 2022 - Paul Goldschmidt\n",
    "\n",
    "5) Pitching data for the Cy Young award winner each year:\n",
    "    AL 2019 - Justin Verlander\n",
    "    NL 2019 - Jacob deGrom\n",
    "    AL 2021 - Robbie Ray\n",
    "    NL 2021 - Corbin Burnes\n",
    "    AL 2022 - Justin Verlander\n",
    "    NL 2022 - Sandy Alcantara"
   ]
  },
  {
   "attachments": {},
   "cell_type": "markdown",
   "metadata": {},
   "source": [
    "### - Ethical Considerations - ###\n",
    "Stakeholders that may be interested in this analysis may be sports betters, scouts or recruiters, players, coaches, and academia.\n",
    "\n",
    "We believe that since it is common and expected that there are extensive analytics done to sports data, we don't believe there will be any ethical dilemma with what we conclude, or the data that we expose people to. The only possible ethical dilemma that could arise from this is fueling a person's gambling addiction."
   ]
  },
  {
   "attachments": {},
   "cell_type": "markdown",
   "metadata": {},
   "source": [
    "### - Data Cleaning and Processing - ###\n",
    "We expect that the data should already be fairly clean since it is most likely not raw data but has already had people clean it. But we will have to run tests to see if there are any spots with unexpected entries such as N/A, None, blank spaces, etc. We will be scraping entire tables that contain basic baseball statistics, including batting averages, number of strikeouts, singles, doubles, walks, etc. The data will be pulled into Pandas dataframes to easily begin cleaning the data. From the cleansed data we will build predictive models."
   ]
  },
  {
   "attachments": {},
   "cell_type": "markdown",
   "metadata": {},
   "source": [
    "### - Explanatory Analysis - ###\n",
    " - Correlation matrices\n",
    " - Heat maps\n",
    " - Linear regression models\n",
    " - Multi-linear regression models\n",
    " - K-Nearest Neighbor/Decision tree classification models"
   ]
  },
  {
   "attachments": {},
   "cell_type": "markdown",
   "metadata": {},
   "source": [
    "### - Analysis Methodology - ###\n",
    "We plan on creating correlation matrices and corresponding heat maps using the variables mentioned above. This will help to find the strongest predictive variables. We also plan on using linear and multi-linear regression analyses to find a model that best answers our questions in the project objectives section. We will use both the K-Nearest Neighbor and Decision Tree classification models to determine which type of model helps us best answer the project objectives."
   ]
  },
  {
   "attachments": {},
   "cell_type": "markdown",
   "metadata": {},
   "source": [
    "### - Project Schedule - ###\n",
    "#### Week 1 - March 13-17 <br>\n",
    "Brainstorm project ideas <br>\n",
    "Consider how we will analyze the data and where we will get it from <br>\n",
    "Create schedule <br>\n",
    "Project proposal due 3/17 <br>\n",
    "\n",
    "#### Week 2 - March 20-24 <br>\n",
    "Refine the asked questions and determine the exact data that we need.<br>\n",
    "\n",
    "#### Week 3 - March 27-31<br>\n",
    "Data scraping and cleaning<br>\n",
    "\n",
    "#### Week 4 - April 3-7<br>\n",
    "Milestone due April 4<br>\n",
    "Visualize data<br>\n",
    "\n",
    "#### Week 5 - April 10-14<br>\n",
    "Draw conclusions<br>\n",
    "Visualize data <br>\n",
    "\n",
    "#### Week 6 - April 17-21<br>\n",
    "Compile all research and data and conclusions and make a cohesive report.<br>\n",
    "Create a screencast - voice-over of our presentation <br>\n",
    "Final report due April 21<br>"
   ]
  }
 ],
 "metadata": {
  "kernelspec": {
   "display_name": "Python 3",
   "language": "python",
   "name": "python3"
  },
  "language_info": {
   "name": "python",
   "version": "3.11.1 (tags/v3.11.1:a7a450f, Dec  6 2022, 19:58:39) [MSC v.1934 64 bit (AMD64)]"
  },
  "orig_nbformat": 4,
  "vscode": {
   "interpreter": {
    "hash": "be03df042d667836153eb4464991042d20c9d7f85cb37a92c7688b9b598845d2"
   }
  }
 },
 "nbformat": 4,
 "nbformat_minor": 2
}
