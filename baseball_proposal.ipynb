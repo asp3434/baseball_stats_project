{
 "cells": [
  {
   "attachments": {},
   "cell_type": "markdown",
   "metadata": {},
   "source": [
    "# Baseball Proposal"
   ]
  },
  {
   "attachments": {},
   "cell_type": "markdown",
   "metadata": {},
   "source": [
    "## - Basic Information - ##\n",
    "Title: Baseball Data Analysis and Predictive Analytics <br>\n",
    "Group Member: Dallen Unruh, u6003470@umail.utah.edu, u6003470 <br>\n",
    "Group Member: Drew Prescott, u0584882@umail.utah.edu, u0584882 <br>\n",
    "Group Member: Alexander Falk, u1366918@umail.utah.edu, u1366918 <br>"
   ]
  },
  {
   "attachments": {},
   "cell_type": "markdown",
   "metadata": {},
   "source": [
    "## - Background and Motivation - ##\n",
    "Two of the group members have experience playing and watching baseball and the topic seems entertaining to everyone. Additionally, it is easy to access a signigicant amount of public data for baseball. This makes scraping easier and reduces ethical concerns that other projects may have. "
   ]
  },
  {
   "attachments": {},
   "cell_type": "markdown",
   "metadata": {},
   "source": [
    "### - Project Objectives - ###\n",
    "The goal of this project is to create a baseball stats project to attempt to identify the top 5 most likely teams to win the World Series and top 5 most likely players to win the MVP award and Cy Young award.\n",
    "\n",
    "Questions to answer:\n",
    " - What data determine the winning MLB team?\n",
    " - What data determine the winner of the MVP award?\n",
    " - What data determine the winner of the Cy Young award?\n",
    "\n",
    "One of the benefits of this project is learning how to analyze a complex system to extract meaningful conclusions. The code will be stored on Github so it can also provide a blueprint for other people who are seeking to learn more about data science. If the code and methods work, it may help baseball teams and players to identify and improve certain areas of their game."
   ]
  },
  {
   "attachments": {},
   "cell_type": "markdown",
   "metadata": {},
   "source": [
    "### - Data Description and Acquisition - ###\n",
    "As of right now, all code will be gathered from \"https://www.baseball-reference.com/.\" "
   ]
  },
  {
   "attachments": {},
   "cell_type": "markdown",
   "metadata": {},
   "source": [
    "### - Ethical Considerations - ###\n"
   ]
  },
  {
   "attachments": {},
   "cell_type": "markdown",
   "metadata": {},
   "source": [
    "### - Data Cleaning and Processing - ###\n"
   ]
  },
  {
   "attachments": {},
   "cell_type": "markdown",
   "metadata": {},
   "source": [
    "### - Explanatory Analysis - ###\n"
   ]
  },
  {
   "attachments": {},
   "cell_type": "markdown",
   "metadata": {},
   "source": [
    "### - Analysis Methodology - ###\n"
   ]
  },
  {
   "attachments": {},
   "cell_type": "markdown",
   "metadata": {},
   "source": [
    "### - Project Schedule - ###\n"
   ]
  }
 ],
 "metadata": {
  "language_info": {
   "name": "python"
  },
  "orig_nbformat": 4
 },
 "nbformat": 4,
 "nbformat_minor": 2
}
