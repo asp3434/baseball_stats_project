{
 "cells": [
  {
   "cell_type": "code",
   "execution_count": 111,
   "metadata": {},
   "outputs": [],
   "source": [
    "# import libraries\n",
    "import requests\n",
    "from bs4 import BeautifulSoup\n",
    "import re\n",
    "import time\n",
    "import pandas as pd\n",
    "from time import sleep"
   ]
  },
  {
   "attachments": {},
   "cell_type": "markdown",
   "metadata": {},
   "source": [
    "GET THE MAIN SOUP"
   ]
  },
  {
   "cell_type": "code",
   "execution_count": 2,
   "metadata": {},
   "outputs": [],
   "source": [
    "main_url = 'https://www.baseball-reference.com'\n",
    "page = requests.get(main_url)\n",
    "main_soup = BeautifulSoup(page.content)"
   ]
  },
  {
   "attachments": {},
   "cell_type": "markdown",
   "metadata": {},
   "source": [
    "CRAWL TO THE STANDINGS PAGE AND GET THE SOUP"
   ]
  },
  {
   "cell_type": "code",
   "execution_count": 3,
   "metadata": {},
   "outputs": [
    {
     "name": "stdout",
     "output_type": "stream",
     "text": [
      "/leagues/MLB-standings.shtml\n"
     ]
    }
   ],
   "source": [
    "for this_soup in main_soup.find_all('a'):\n",
    "\n",
    "    if this_soup.get_text() == \"Standings\":\n",
    "        standings_url = this_soup.get(\"href\")\n",
    "        print(standings_url)\n",
    "        break\n",
    "\n",
    "page = requests.get(main_url + standings_url)\n",
    "standings_soup = BeautifulSoup(page.content)"
   ]
  },
  {
   "attachments": {},
   "cell_type": "markdown",
   "metadata": {},
   "source": [
    "CRAWL TO THE LEAGUES PAGE AND GET THE SOUP"
   ]
  },
  {
   "cell_type": "code",
   "execution_count": 4,
   "metadata": {},
   "outputs": [
    {
     "name": "stdout",
     "output_type": "stream",
     "text": [
      "/leagues/\n"
     ]
    }
   ],
   "source": [
    "for this_soup in main_soup.find_all('a'):\n",
    "    if this_soup.get_text() == \"Seasons\":\n",
    "        leagues_url = this_soup.get(\"href\")\n",
    "        print(leagues_url)\n",
    "        break\n",
    "\n",
    "page = requests.get(main_url + leagues_url)\n",
    "leagues_soup = BeautifulSoup(page.content)"
   ]
  },
  {
   "attachments": {},
   "cell_type": "markdown",
   "metadata": {},
   "source": [
    "GRAB THE WINNERS TABLE FROM THE LEAGUES PAGE"
   ]
  },
  {
   "cell_type": "code",
   "execution_count": 5,
   "metadata": {},
   "outputs": [
    {
     "name": "stdout",
     "output_type": "stream",
     "text": [
      "     Year  Lg               Champion               MVP\n",
      "0  2023.0  NL                    NaN               NaN\n",
      "1     NaN  AL                    NaN               NaN\n",
      "2  2022.0  NL  Philadelphia Phillies  Paul Goldschmidt\n",
      "3     NaN  AL         Houston Astros       Aaron Judge\n",
      "4  2021.0  NL         Atlanta Braves      Bryce Harper\n"
     ]
    }
   ],
   "source": [
    "winners_table = pd.read_html(main_url + leagues_url, match=\"Active Major Leagues\")\n",
    "winners_df = winners_table[0]\n",
    "print(winners_df.head())"
   ]
  },
  {
   "attachments": {},
   "cell_type": "markdown",
   "metadata": {},
   "source": [
    "GET THE LINKS TO THE STANDINGS EVERY YEAR"
   ]
  },
  {
   "cell_type": "code",
   "execution_count": 6,
   "metadata": {},
   "outputs": [
    {
     "name": "stdout",
     "output_type": "stream",
     "text": [
      "['/leagues/majors/2022-standings.shtml', '/leagues/majors/2021-standings.shtml', '/leagues/majors/2020-standings.shtml', '/leagues/majors/2019-standings.shtml', '/leagues/majors/2018-standings.shtml', '/leagues/majors/2017-standings.shtml', '/leagues/majors/2016-standings.shtml', '/leagues/majors/2015-standings.shtml', '/leagues/majors/2014-standings.shtml', '/leagues/majors/2013-standings.shtml', '/leagues/majors/2012-standings.shtml', '/leagues/majors/2011-standings.shtml', '/leagues/majors/2010-standings.shtml', '/leagues/majors/2009-standings.shtml', '/leagues/majors/2008-standings.shtml', '/leagues/majors/2007-standings.shtml', '/leagues/majors/2006-standings.shtml', '/leagues/majors/2005-standings.shtml', '/leagues/majors/2004-standings.shtml', '/leagues/majors/2003-standings.shtml', '/leagues/majors/2002-standings.shtml', '/leagues/majors/2001-standings.shtml', '/leagues/majors/2000-standings.shtml']\n"
     ]
    }
   ],
   "source": [
    "all_standings_urls = []\n",
    "for i in range(23):\n",
    "    for this_soup in standings_soup.find_all('a', {\"class\": \"button2 prev\"}):\n",
    "        if this_soup.get_text() == \"Previous Season\":\n",
    "            all_standings_urls.append(this_soup.get(\"href\"))\n",
    "            break\n",
    "    page = requests.get(main_url + all_standings_urls[i])\n",
    "    standings_soup = BeautifulSoup(page.content)\n",
    "\n",
    "print(all_standings_urls)\n"
   ]
  },
  {
   "attachments": {},
   "cell_type": "markdown",
   "metadata": {},
   "source": [
    "GET THE STANDINGS TABLES INTO DFS "
   ]
  },
  {
   "cell_type": "code",
   "execution_count": 145,
   "metadata": {},
   "outputs": [
    {
     "ename": "HTTPError",
     "evalue": "HTTP Error 429: Too Many Requests",
     "output_type": "error",
     "traceback": [
      "\u001b[1;31m---------------------------------------------------------------------------\u001b[0m",
      "\u001b[1;31mHTTPError\u001b[0m                                 Traceback (most recent call last)",
      "Cell \u001b[1;32mIn[145], line 3\u001b[0m\n\u001b[0;32m      1\u001b[0m standings_dfs \u001b[39m=\u001b[39m []\n\u001b[0;32m      2\u001b[0m \u001b[39mfor\u001b[39;00m current_url \u001b[39min\u001b[39;00m all_standings_urls:\n\u001b[1;32m----> 3\u001b[0m     current_df \u001b[39m=\u001b[39m pd\u001b[39m.\u001b[39;49mread_html(main_url \u001b[39m+\u001b[39;49m current_url)\n\u001b[0;32m      4\u001b[0m     \u001b[39mprint\u001b[39m(\u001b[39mlen\u001b[39m(current_df))\n\u001b[0;32m      5\u001b[0m     standings_dfs\u001b[39m.\u001b[39mappend(current_df[\u001b[39m5\u001b[39m])\n",
      "File \u001b[1;32mc:\\Users\\dalle\\AppData\\Local\\Programs\\Python\\Python311\\Lib\\site-packages\\pandas\\util\\_decorators.py:331\u001b[0m, in \u001b[0;36mdeprecate_nonkeyword_arguments.<locals>.decorate.<locals>.wrapper\u001b[1;34m(*args, **kwargs)\u001b[0m\n\u001b[0;32m    325\u001b[0m \u001b[39mif\u001b[39;00m \u001b[39mlen\u001b[39m(args) \u001b[39m>\u001b[39m num_allow_args:\n\u001b[0;32m    326\u001b[0m     warnings\u001b[39m.\u001b[39mwarn(\n\u001b[0;32m    327\u001b[0m         msg\u001b[39m.\u001b[39mformat(arguments\u001b[39m=\u001b[39m_format_argument_list(allow_args)),\n\u001b[0;32m    328\u001b[0m         \u001b[39mFutureWarning\u001b[39;00m,\n\u001b[0;32m    329\u001b[0m         stacklevel\u001b[39m=\u001b[39mfind_stack_level(),\n\u001b[0;32m    330\u001b[0m     )\n\u001b[1;32m--> 331\u001b[0m \u001b[39mreturn\u001b[39;00m func(\u001b[39m*\u001b[39;49margs, \u001b[39m*\u001b[39;49m\u001b[39m*\u001b[39;49mkwargs)\n",
      "File \u001b[1;32mc:\\Users\\dalle\\AppData\\Local\\Programs\\Python\\Python311\\Lib\\site-packages\\pandas\\io\\html.py:1205\u001b[0m, in \u001b[0;36mread_html\u001b[1;34m(io, match, flavor, header, index_col, skiprows, attrs, parse_dates, thousands, encoding, decimal, converters, na_values, keep_default_na, displayed_only, extract_links)\u001b[0m\n\u001b[0;32m   1201\u001b[0m validate_header_arg(header)\n\u001b[0;32m   1203\u001b[0m io \u001b[39m=\u001b[39m stringify_path(io)\n\u001b[1;32m-> 1205\u001b[0m \u001b[39mreturn\u001b[39;00m _parse(\n\u001b[0;32m   1206\u001b[0m     flavor\u001b[39m=\u001b[39;49mflavor,\n\u001b[0;32m   1207\u001b[0m     io\u001b[39m=\u001b[39;49mio,\n\u001b[0;32m   1208\u001b[0m     match\u001b[39m=\u001b[39;49mmatch,\n\u001b[0;32m   1209\u001b[0m     header\u001b[39m=\u001b[39;49mheader,\n\u001b[0;32m   1210\u001b[0m     index_col\u001b[39m=\u001b[39;49mindex_col,\n\u001b[0;32m   1211\u001b[0m     skiprows\u001b[39m=\u001b[39;49mskiprows,\n\u001b[0;32m   1212\u001b[0m     parse_dates\u001b[39m=\u001b[39;49mparse_dates,\n\u001b[0;32m   1213\u001b[0m     thousands\u001b[39m=\u001b[39;49mthousands,\n\u001b[0;32m   1214\u001b[0m     attrs\u001b[39m=\u001b[39;49mattrs,\n\u001b[0;32m   1215\u001b[0m     encoding\u001b[39m=\u001b[39;49mencoding,\n\u001b[0;32m   1216\u001b[0m     decimal\u001b[39m=\u001b[39;49mdecimal,\n\u001b[0;32m   1217\u001b[0m     converters\u001b[39m=\u001b[39;49mconverters,\n\u001b[0;32m   1218\u001b[0m     na_values\u001b[39m=\u001b[39;49mna_values,\n\u001b[0;32m   1219\u001b[0m     keep_default_na\u001b[39m=\u001b[39;49mkeep_default_na,\n\u001b[0;32m   1220\u001b[0m     displayed_only\u001b[39m=\u001b[39;49mdisplayed_only,\n\u001b[0;32m   1221\u001b[0m     extract_links\u001b[39m=\u001b[39;49mextract_links,\n\u001b[0;32m   1222\u001b[0m )\n",
      "File \u001b[1;32mc:\\Users\\dalle\\AppData\\Local\\Programs\\Python\\Python311\\Lib\\site-packages\\pandas\\io\\html.py:986\u001b[0m, in \u001b[0;36m_parse\u001b[1;34m(flavor, io, match, attrs, encoding, displayed_only, extract_links, **kwargs)\u001b[0m\n\u001b[0;32m    983\u001b[0m p \u001b[39m=\u001b[39m parser(io, compiled_match, attrs, encoding, displayed_only, extract_links)\n\u001b[0;32m    985\u001b[0m \u001b[39mtry\u001b[39;00m:\n\u001b[1;32m--> 986\u001b[0m     tables \u001b[39m=\u001b[39m p\u001b[39m.\u001b[39;49mparse_tables()\n\u001b[0;32m    987\u001b[0m \u001b[39mexcept\u001b[39;00m \u001b[39mValueError\u001b[39;00m \u001b[39mas\u001b[39;00m caught:\n\u001b[0;32m    988\u001b[0m     \u001b[39m# if `io` is an io-like object, check if it's seekable\u001b[39;00m\n\u001b[0;32m    989\u001b[0m     \u001b[39m# and try to rewind it before trying the next parser\u001b[39;00m\n\u001b[0;32m    990\u001b[0m     \u001b[39mif\u001b[39;00m \u001b[39mhasattr\u001b[39m(io, \u001b[39m\"\u001b[39m\u001b[39mseekable\u001b[39m\u001b[39m\"\u001b[39m) \u001b[39mand\u001b[39;00m io\u001b[39m.\u001b[39mseekable():\n",
      "File \u001b[1;32mc:\\Users\\dalle\\AppData\\Local\\Programs\\Python\\Python311\\Lib\\site-packages\\pandas\\io\\html.py:262\u001b[0m, in \u001b[0;36m_HtmlFrameParser.parse_tables\u001b[1;34m(self)\u001b[0m\n\u001b[0;32m    254\u001b[0m \u001b[39mdef\u001b[39;00m \u001b[39mparse_tables\u001b[39m(\u001b[39mself\u001b[39m):\n\u001b[0;32m    255\u001b[0m \u001b[39m    \u001b[39m\u001b[39m\"\"\"\u001b[39;00m\n\u001b[0;32m    256\u001b[0m \u001b[39m    Parse and return all tables from the DOM.\u001b[39;00m\n\u001b[0;32m    257\u001b[0m \n\u001b[1;32m   (...)\u001b[0m\n\u001b[0;32m    260\u001b[0m \u001b[39m    list of parsed (header, body, footer) tuples from tables.\u001b[39;00m\n\u001b[0;32m    261\u001b[0m \u001b[39m    \"\"\"\u001b[39;00m\n\u001b[1;32m--> 262\u001b[0m     tables \u001b[39m=\u001b[39m \u001b[39mself\u001b[39m\u001b[39m.\u001b[39m_parse_tables(\u001b[39mself\u001b[39;49m\u001b[39m.\u001b[39;49m_build_doc(), \u001b[39mself\u001b[39m\u001b[39m.\u001b[39mmatch, \u001b[39mself\u001b[39m\u001b[39m.\u001b[39mattrs)\n\u001b[0;32m    263\u001b[0m     \u001b[39mreturn\u001b[39;00m (\u001b[39mself\u001b[39m\u001b[39m.\u001b[39m_parse_thead_tbody_tfoot(table) \u001b[39mfor\u001b[39;00m table \u001b[39min\u001b[39;00m tables)\n",
      "File \u001b[1;32mc:\\Users\\dalle\\AppData\\Local\\Programs\\Python\\Python311\\Lib\\site-packages\\pandas\\io\\html.py:821\u001b[0m, in \u001b[0;36m_LxmlFrameParser._build_doc\u001b[1;34m(self)\u001b[0m\n\u001b[0;32m    819\u001b[0m             \u001b[39mpass\u001b[39;00m\n\u001b[0;32m    820\u001b[0m     \u001b[39melse\u001b[39;00m:\n\u001b[1;32m--> 821\u001b[0m         \u001b[39mraise\u001b[39;00m e\n\u001b[0;32m    822\u001b[0m \u001b[39melse\u001b[39;00m:\n\u001b[0;32m    823\u001b[0m     \u001b[39mif\u001b[39;00m \u001b[39mnot\u001b[39;00m \u001b[39mhasattr\u001b[39m(r, \u001b[39m\"\u001b[39m\u001b[39mtext_content\u001b[39m\u001b[39m\"\u001b[39m):\n",
      "File \u001b[1;32mc:\\Users\\dalle\\AppData\\Local\\Programs\\Python\\Python311\\Lib\\site-packages\\pandas\\io\\html.py:802\u001b[0m, in \u001b[0;36m_LxmlFrameParser._build_doc\u001b[1;34m(self)\u001b[0m\n\u001b[0;32m    800\u001b[0m \u001b[39mtry\u001b[39;00m:\n\u001b[0;32m    801\u001b[0m     \u001b[39mif\u001b[39;00m is_url(\u001b[39mself\u001b[39m\u001b[39m.\u001b[39mio):\n\u001b[1;32m--> 802\u001b[0m         \u001b[39mwith\u001b[39;00m urlopen(\u001b[39mself\u001b[39;49m\u001b[39m.\u001b[39;49mio) \u001b[39mas\u001b[39;00m f:\n\u001b[0;32m    803\u001b[0m             r \u001b[39m=\u001b[39m parse(f, parser\u001b[39m=\u001b[39mparser)\n\u001b[0;32m    804\u001b[0m     \u001b[39melse\u001b[39;00m:\n\u001b[0;32m    805\u001b[0m         \u001b[39m# try to parse the input in the simplest way\u001b[39;00m\n",
      "File \u001b[1;32mc:\\Users\\dalle\\AppData\\Local\\Programs\\Python\\Python311\\Lib\\site-packages\\pandas\\io\\common.py:265\u001b[0m, in \u001b[0;36murlopen\u001b[1;34m(*args, **kwargs)\u001b[0m\n\u001b[0;32m    259\u001b[0m \u001b[39m\u001b[39m\u001b[39m\"\"\"\u001b[39;00m\n\u001b[0;32m    260\u001b[0m \u001b[39mLazy-import wrapper for stdlib urlopen, as that imports a big chunk of\u001b[39;00m\n\u001b[0;32m    261\u001b[0m \u001b[39mthe stdlib.\u001b[39;00m\n\u001b[0;32m    262\u001b[0m \u001b[39m\"\"\"\u001b[39;00m\n\u001b[0;32m    263\u001b[0m \u001b[39mimport\u001b[39;00m \u001b[39murllib\u001b[39;00m\u001b[39m.\u001b[39;00m\u001b[39mrequest\u001b[39;00m\n\u001b[1;32m--> 265\u001b[0m \u001b[39mreturn\u001b[39;00m urllib\u001b[39m.\u001b[39;49mrequest\u001b[39m.\u001b[39;49murlopen(\u001b[39m*\u001b[39;49margs, \u001b[39m*\u001b[39;49m\u001b[39m*\u001b[39;49mkwargs)\n",
      "File \u001b[1;32mc:\\Users\\dalle\\AppData\\Local\\Programs\\Python\\Python311\\Lib\\urllib\\request.py:216\u001b[0m, in \u001b[0;36murlopen\u001b[1;34m(url, data, timeout, cafile, capath, cadefault, context)\u001b[0m\n\u001b[0;32m    214\u001b[0m \u001b[39melse\u001b[39;00m:\n\u001b[0;32m    215\u001b[0m     opener \u001b[39m=\u001b[39m _opener\n\u001b[1;32m--> 216\u001b[0m \u001b[39mreturn\u001b[39;00m opener\u001b[39m.\u001b[39;49mopen(url, data, timeout)\n",
      "File \u001b[1;32mc:\\Users\\dalle\\AppData\\Local\\Programs\\Python\\Python311\\Lib\\urllib\\request.py:525\u001b[0m, in \u001b[0;36mOpenerDirector.open\u001b[1;34m(self, fullurl, data, timeout)\u001b[0m\n\u001b[0;32m    523\u001b[0m \u001b[39mfor\u001b[39;00m processor \u001b[39min\u001b[39;00m \u001b[39mself\u001b[39m\u001b[39m.\u001b[39mprocess_response\u001b[39m.\u001b[39mget(protocol, []):\n\u001b[0;32m    524\u001b[0m     meth \u001b[39m=\u001b[39m \u001b[39mgetattr\u001b[39m(processor, meth_name)\n\u001b[1;32m--> 525\u001b[0m     response \u001b[39m=\u001b[39m meth(req, response)\n\u001b[0;32m    527\u001b[0m \u001b[39mreturn\u001b[39;00m response\n",
      "File \u001b[1;32mc:\\Users\\dalle\\AppData\\Local\\Programs\\Python\\Python311\\Lib\\urllib\\request.py:634\u001b[0m, in \u001b[0;36mHTTPErrorProcessor.http_response\u001b[1;34m(self, request, response)\u001b[0m\n\u001b[0;32m    631\u001b[0m \u001b[39m# According to RFC 2616, \"2xx\" code indicates that the client's\u001b[39;00m\n\u001b[0;32m    632\u001b[0m \u001b[39m# request was successfully received, understood, and accepted.\u001b[39;00m\n\u001b[0;32m    633\u001b[0m \u001b[39mif\u001b[39;00m \u001b[39mnot\u001b[39;00m (\u001b[39m200\u001b[39m \u001b[39m<\u001b[39m\u001b[39m=\u001b[39m code \u001b[39m<\u001b[39m \u001b[39m300\u001b[39m):\n\u001b[1;32m--> 634\u001b[0m     response \u001b[39m=\u001b[39m \u001b[39mself\u001b[39;49m\u001b[39m.\u001b[39;49mparent\u001b[39m.\u001b[39;49merror(\n\u001b[0;32m    635\u001b[0m         \u001b[39m'\u001b[39;49m\u001b[39mhttp\u001b[39;49m\u001b[39m'\u001b[39;49m, request, response, code, msg, hdrs)\n\u001b[0;32m    637\u001b[0m \u001b[39mreturn\u001b[39;00m response\n",
      "File \u001b[1;32mc:\\Users\\dalle\\AppData\\Local\\Programs\\Python\\Python311\\Lib\\urllib\\request.py:563\u001b[0m, in \u001b[0;36mOpenerDirector.error\u001b[1;34m(self, proto, *args)\u001b[0m\n\u001b[0;32m    561\u001b[0m \u001b[39mif\u001b[39;00m http_err:\n\u001b[0;32m    562\u001b[0m     args \u001b[39m=\u001b[39m (\u001b[39mdict\u001b[39m, \u001b[39m'\u001b[39m\u001b[39mdefault\u001b[39m\u001b[39m'\u001b[39m, \u001b[39m'\u001b[39m\u001b[39mhttp_error_default\u001b[39m\u001b[39m'\u001b[39m) \u001b[39m+\u001b[39m orig_args\n\u001b[1;32m--> 563\u001b[0m     \u001b[39mreturn\u001b[39;00m \u001b[39mself\u001b[39;49m\u001b[39m.\u001b[39;49m_call_chain(\u001b[39m*\u001b[39;49margs)\n",
      "File \u001b[1;32mc:\\Users\\dalle\\AppData\\Local\\Programs\\Python\\Python311\\Lib\\urllib\\request.py:496\u001b[0m, in \u001b[0;36mOpenerDirector._call_chain\u001b[1;34m(self, chain, kind, meth_name, *args)\u001b[0m\n\u001b[0;32m    494\u001b[0m \u001b[39mfor\u001b[39;00m handler \u001b[39min\u001b[39;00m handlers:\n\u001b[0;32m    495\u001b[0m     func \u001b[39m=\u001b[39m \u001b[39mgetattr\u001b[39m(handler, meth_name)\n\u001b[1;32m--> 496\u001b[0m     result \u001b[39m=\u001b[39m func(\u001b[39m*\u001b[39;49margs)\n\u001b[0;32m    497\u001b[0m     \u001b[39mif\u001b[39;00m result \u001b[39mis\u001b[39;00m \u001b[39mnot\u001b[39;00m \u001b[39mNone\u001b[39;00m:\n\u001b[0;32m    498\u001b[0m         \u001b[39mreturn\u001b[39;00m result\n",
      "File \u001b[1;32mc:\\Users\\dalle\\AppData\\Local\\Programs\\Python\\Python311\\Lib\\urllib\\request.py:643\u001b[0m, in \u001b[0;36mHTTPDefaultErrorHandler.http_error_default\u001b[1;34m(self, req, fp, code, msg, hdrs)\u001b[0m\n\u001b[0;32m    642\u001b[0m \u001b[39mdef\u001b[39;00m \u001b[39mhttp_error_default\u001b[39m(\u001b[39mself\u001b[39m, req, fp, code, msg, hdrs):\n\u001b[1;32m--> 643\u001b[0m     \u001b[39mraise\u001b[39;00m HTTPError(req\u001b[39m.\u001b[39mfull_url, code, msg, hdrs, fp)\n",
      "\u001b[1;31mHTTPError\u001b[0m: HTTP Error 429: Too Many Requests"
     ]
    }
   ],
   "source": [
    "standings_dfs = []\n",
    "for current_url in all_standings_urls:\n",
    "    current_df = pd.read_html(main_url + current_url)\n",
    "    print(len(current_df))\n",
    "    standings_dfs.append(current_df[5])"
   ]
  },
  {
   "attachments": {},
   "cell_type": "markdown",
   "metadata": {},
   "source": [
    "GET ALL THE LINKS to the teams stats by year"
   ]
  },
  {
   "cell_type": "code",
   "execution_count": 112,
   "metadata": {},
   "outputs": [
    {
     "name": "stdout",
     "output_type": "stream",
     "text": [
      "                     TEAM  YEAR                    URL\n",
      "0        New York Yankees  2022  /teams/NYY/2022.shtml\n",
      "1       Toronto Blue Jays  2022  /teams/TOR/2022.shtml\n",
      "2          Tampa Bay Rays  2022  /teams/TBR/2022.shtml\n",
      "3       Baltimore Orioles  2022  /teams/BAL/2022.shtml\n",
      "4          Boston Red Sox  2022  /teams/BOS/2022.shtml\n",
      "5     Cleveland Guardians  2022  /teams/CLE/2022.shtml\n",
      "6       Chicago White Sox  2022  /teams/CHW/2022.shtml\n",
      "7         Minnesota Twins  2022  /teams/MIN/2022.shtml\n",
      "8          Detroit Tigers  2022  /teams/DET/2022.shtml\n",
      "9      Kansas City Royals  2022  /teams/KCR/2022.shtml\n",
      "10         Houston Astros  2022  /teams/HOU/2022.shtml\n",
      "11       Seattle Mariners  2022  /teams/SEA/2022.shtml\n",
      "12     Los Angeles Angels  2022  /teams/LAA/2022.shtml\n",
      "13          Texas Rangers  2022  /teams/TEX/2022.shtml\n",
      "14      Oakland Athletics  2022  /teams/OAK/2022.shtml\n",
      "15         Atlanta Braves  2022  /teams/ATL/2022.shtml\n",
      "16          New York Mets  2022  /teams/NYM/2022.shtml\n",
      "17  Philadelphia Phillies  2022  /teams/PHI/2022.shtml\n",
      "18          Miami Marlins  2022  /teams/MIA/2022.shtml\n",
      "19   Washington Nationals  2022  /teams/WSN/2022.shtml\n",
      "20    St. Louis Cardinals  2022  /teams/STL/2022.shtml\n",
      "21      Milwaukee Brewers  2022  /teams/MIL/2022.shtml\n",
      "22           Chicago Cubs  2022  /teams/CHC/2022.shtml\n",
      "23        Cincinnati Reds  2022  /teams/CIN/2022.shtml\n",
      "24     Pittsburgh Pirates  2022  /teams/PIT/2022.shtml\n",
      "25    Los Angeles Dodgers  2022  /teams/LAD/2022.shtml\n",
      "26       San Diego Padres  2022  /teams/SDP/2022.shtml\n",
      "27   San Francisco Giants  2022  /teams/SFG/2022.shtml\n",
      "28   Arizona Diamondbacks  2022  /teams/ARI/2022.shtml\n",
      "29       Colorado Rockies  2022  /teams/COL/2022.shtml\n",
      "30         Tampa Bay Rays  2021  /teams/TBR/2021.shtml\n",
      "31         Boston Red Sox  2021  /teams/BOS/2021.shtml\n",
      "32       New York Yankees  2021  /teams/NYY/2021.shtml\n",
      "33      Toronto Blue Jays  2021  /teams/TOR/2021.shtml\n",
      "34      Baltimore Orioles  2021  /teams/BAL/2021.shtml\n",
      "                      TEAM  YEAR                    URL\n",
      "655   Arizona Diamondbacks  2001  /teams/ARI/2001.shtml\n",
      "656   San Francisco Giants  2001  /teams/SFG/2001.shtml\n",
      "657    Los Angeles Dodgers  2001  /teams/LAD/2001.shtml\n",
      "658       San Diego Padres  2001  /teams/SDP/2001.shtml\n",
      "659       Colorado Rockies  2001  /teams/COL/2001.shtml\n",
      "660       New York Yankees  2000  /teams/NYY/2000.shtml\n",
      "661         Boston Red Sox  2000  /teams/BOS/2000.shtml\n",
      "662      Toronto Blue Jays  2000  /teams/TOR/2000.shtml\n",
      "663      Baltimore Orioles  2000  /teams/BAL/2000.shtml\n",
      "664   Tampa Bay Devil Rays  2000  /teams/TBD/2000.shtml\n",
      "665      Chicago White Sox  2000  /teams/CHW/2000.shtml\n",
      "666      Cleveland Indians  2000  /teams/CLE/2000.shtml\n",
      "667         Detroit Tigers  2000  /teams/DET/2000.shtml\n",
      "668     Kansas City Royals  2000  /teams/KCR/2000.shtml\n",
      "669        Minnesota Twins  2000  /teams/MIN/2000.shtml\n",
      "670      Oakland Athletics  2000  /teams/OAK/2000.shtml\n",
      "671       Seattle Mariners  2000  /teams/SEA/2000.shtml\n",
      "672         Anaheim Angels  2000  /teams/ANA/2000.shtml\n",
      "673          Texas Rangers  2000  /teams/TEX/2000.shtml\n",
      "674         Atlanta Braves  2000  /teams/ATL/2000.shtml\n",
      "675          New York Mets  2000  /teams/NYM/2000.shtml\n",
      "676        Florida Marlins  2000  /teams/FLA/2000.shtml\n",
      "677         Montreal Expos  2000  /teams/MON/2000.shtml\n",
      "678  Philadelphia Phillies  2000  /teams/PHI/2000.shtml\n",
      "679    St. Louis Cardinals  2000  /teams/STL/2000.shtml\n",
      "680        Cincinnati Reds  2000  /teams/CIN/2000.shtml\n",
      "681      Milwaukee Brewers  2000  /teams/MIL/2000.shtml\n",
      "682         Houston Astros  2000  /teams/HOU/2000.shtml\n",
      "683     Pittsburgh Pirates  2000  /teams/PIT/2000.shtml\n",
      "684           Chicago Cubs  2000  /teams/CHC/2000.shtml\n",
      "685   San Francisco Giants  2000  /teams/SFG/2000.shtml\n",
      "686    Los Angeles Dodgers  2000  /teams/LAD/2000.shtml\n",
      "687   Arizona Diamondbacks  2000  /teams/ARI/2000.shtml\n",
      "688       Colorado Rockies  2000  /teams/COL/2000.shtml\n",
      "689       San Diego Padres  2000  /teams/SDP/2000.shtml\n"
     ]
    }
   ],
   "source": [
    "all_teams_urls = pd.DataFrame()\n",
    "for current_url in all_standings_urls:\n",
    "    page = requests.get(main_url + current_url)\n",
    "    teams_soup = BeautifulSoup(page.content)\n",
    "    overall = teams_soup.find_all('table')\n",
    "    for this_table in overall:\n",
    "        for inner_soup in this_table.find_all('a'):\n",
    "            temp_ser = {}\n",
    "\n",
    "            temp_ser[\"TEAM\"] = inner_soup.get_text()\n",
    "\n",
    "            temp_split= inner_soup.get(\"href\").split('/')\n",
    "            temp_year = temp_split[3].split('.')\n",
    "            temp_ser[\"YEAR\"] = temp_year[0]\n",
    "\n",
    "            temp_ser[\"URL\"] = inner_soup.get(\"href\")\n",
    "\n",
    "            new_row = pd.Series(temp_ser)\n",
    "            all_teams_urls = pd.concat([all_teams_urls, new_row.to_frame().T], ignore_index=True)\n",
    "    sleep(30)\n",
    "\n",
    "print(all_teams_urls.head(35))\n",
    "print(all_teams_urls.tail(35))"
   ]
  },
  {
   "attachments": {},
   "cell_type": "markdown",
   "metadata": {},
   "source": [
    "DECIDE WHICH TEAMS STATS I WANT TO GRAB"
   ]
  },
  {
   "cell_type": "code",
   "execution_count": 122,
   "metadata": {},
   "outputs": [],
   "source": [
    "these_teams = [[\"New York Yankees\", 2022], [\"Boston Red Sox\", 2022]]"
   ]
  },
  {
   "attachments": {},
   "cell_type": "markdown",
   "metadata": {},
   "source": [
    "GET THE SOUP TO THE TEAM STATS BY YEAR, THEN GET THE LINKS TO THE BATTING GAME LOGS AND THE PITCHING GAME LOGS"
   ]
  },
  {
   "cell_type": "code",
   "execution_count": 134,
   "metadata": {},
   "outputs": [],
   "source": [
    "batting_pitching_logs = []\n",
    "for team, year in these_teams:\n",
    "    new = all_teams_urls.loc[(all_teams_urls['YEAR'] == str(year)) & (all_teams_urls['TEAM'] == team), ['URL']]\n",
    "    current_url = new.iloc[0][\"URL\"]\n",
    "    page = requests.get(main_url + current_url)\n",
    "    year_team_soup = BeautifulSoup(page.content)\n",
    "\n",
    "    for this_li in year_team_soup.find_all(\"li\", {\"class\" : \"full hasmore\"}):\n",
    "        for this_href in this_li.find_all(\"a\"):\n",
    "            if this_href.get_text() == \"Game Logs\":\n",
    "                batting_pitching_logs.append(this_href.get(\"href\"))\n"
   ]
  },
  {
   "attachments": {},
   "cell_type": "markdown",
   "metadata": {},
   "source": [
    "GET THE BATTING AND PITCHING DATA"
   ]
  },
  {
   "cell_type": "code",
   "execution_count": 138,
   "metadata": {},
   "outputs": [
    {
     "name": "stdout",
     "output_type": "stream",
     "text": [
      "  Rk Gtm    Date Unnamed: 3  Opp   Rslt  PA  AB  R   H  ... SB CS    BA   OBP  \\\n",
      "0  1   1   Apr 8        NaN  BOS  W,6-5  46  39  6   9  ...  0  0  .231  .326   \n",
      "1  2   2   Apr 9        NaN  BOS  W,4-2  30  27  4   4  ...  0  0  .197  .289   \n",
      "2  3   3  Apr 10        NaN  BOS  L,3-4  41  36  3  11  ...  1  0  .235  .325   \n",
      "3  4   4  Apr 11        NaN  TOR  L,0-3  35  29  0   4  ...  0  0  .214  .316   \n",
      "4  5   5  Apr 12        NaN  TOR  W,4-0  33  28  4   7  ...  0  0  .220  .319   \n",
      "\n",
      "    SLG   OPS LOB   # Thr Opp. Starter (GmeSc)  \n",
      "0  .487  .813  12  12   R        N.Eovaldi(51)  \n",
      "1  .439  .729   2  10   R        N.Pivetta(46)  \n",
      "2  .412  .737  11  11   R          T.Houck(36)  \n",
      "3  .351  .667   8  10   R         A.Manoah(73)  \n",
      "4  .377  .696   5  10   L        Y.Kikuchi(40)  \n",
      "\n",
      "[5 rows x 32 columns]\n",
      "    Avg   0   1   2   3   4   5   6   7  8  9  \\\n",
      "0  5.06  12  15  25  17  14  19  15  11  5  7   \n",
      "\n",
      "                                   Other Game Totals  \n",
      "0  10, 10, 10, 10, 10, 10, 10, 11, 12, 12, 12, 12...  \n",
      "  Rk Gtm    Date Unnamed: 3  Opp   Rslt  PA  AB  R  H  ... SB CS    BA   OBP  \\\n",
      "0  1   1   Apr 8          @  NYY  L,5-6  43  39  5  9  ...  0  0  .231  .302   \n",
      "1  2   2   Apr 9          @  NYY  L,2-4  37  33  2  5  ...  0  0  .194  .275   \n",
      "2  3   3  Apr 10          @  NYY  W,4-3  37  30  4  5  ...  0  0  .186  .274   \n",
      "3  4   4  Apr 11          @  DET  L,1-3  31  31  1  4  ...  0  0  .173  .243   \n",
      "4  5   5  Apr 12          @  DET  W,5-3  38  34  5  9  ...  0  0  .192  .259   \n",
      "\n",
      "    SLG   OPS LOB   # Thr Opp. Starter (GmeSc)  \n",
      "0  .359  .661   7  12   R           G.Cole(44)  \n",
      "1  .333  .608   8  10   R       L.Severino(46)  \n",
      "2  .324  .597   6  10   L     J.Montgomery(43)  \n",
      "3  .308  .552   3   9   R        M.Manning(68)  \n",
      "4  .317  .577   6  10   L      T.Alexander(50)  \n",
      "\n",
      "[5 rows x 32 columns]\n",
      "    Avg  0   1   2   3   4   5   6  7  8  9  \\\n",
      "0  4.62  8  18  22  16  24  27  16  8  7  5   \n",
      "\n",
      "                                   Other Game Totals  \n",
      "0  10, 10, 11, 11, 12, 12, 13, 13, 16, 16 and 17 ...  \n"
     ]
    }
   ],
   "source": [
    "for current_url in batting_pitching_logs:\n",
    "    this_df = pd.read_html(main_url + current_url)\n",
    "    print(this_df[0].head())"
   ]
  },
  {
   "cell_type": "code",
   "execution_count": 141,
   "metadata": {},
   "outputs": [
    {
     "name": "stdout",
     "output_type": "stream",
     "text": [
      "                     Tm    W   L   W-L%    GB\n",
      "0   Los Angeles Dodgers  111  51  0.685    --\n",
      "1      San Diego Padres   89  73  0.549  22.0\n",
      "2  San Francisco Giants   81  81  0.500  30.0\n",
      "3  Arizona Diamondbacks   74  88  0.457  37.0\n",
      "4      Colorado Rockies   68  94  0.420  43.0\n",
      "                     Tm    W    L   W-L%    GB\n",
      "0  San Francisco Giants  107   55  0.660    --\n",
      "1   Los Angeles Dodgers  106   56  0.654   1.0\n",
      "2      San Diego Padres   79   83  0.488  28.0\n",
      "3      Colorado Rockies   74   87  0.460  32.5\n",
      "4  Arizona Diamondbacks   52  110  0.321  55.0\n",
      "                     Tm   W   L   W-L%    GB\n",
      "0   Los Angeles Dodgers  43  17  0.717    --\n",
      "1      San Diego Padres  37  23  0.617   6.0\n",
      "2  San Francisco Giants  29  31  0.483  14.0\n",
      "3      Colorado Rockies  26  34  0.433  17.0\n",
      "4  Arizona Diamondbacks  25  35  0.417  18.0\n",
      "                     Tm    W   L   W-L%    GB\n",
      "0   Los Angeles Dodgers  106  56  0.654    --\n",
      "1  Arizona Diamondbacks   85  77  0.525  21.0\n",
      "2  San Francisco Giants   77  85  0.475  29.0\n",
      "3      Colorado Rockies   71  91  0.438  35.0\n",
      "4      San Diego Padres   70  92  0.432  36.0\n",
      "                     Tm   W   L   W-L%    GB\n",
      "0   Los Angeles Dodgers  92  71  0.564    --\n",
      "1      Colorado Rockies  91  72  0.558   1.0\n",
      "2  Arizona Diamondbacks  82  80  0.506   9.5\n",
      "3  San Francisco Giants  73  89  0.451  18.5\n",
      "4      San Diego Padres  66  96  0.407  25.5\n",
      "                     Tm    W   L   W-L%    GB\n",
      "0   Los Angeles Dodgers  104  58  0.642    --\n",
      "1  Arizona Diamondbacks   93  69  0.574  11.0\n",
      "2      Colorado Rockies   87  75  0.537  17.0\n",
      "3      San Diego Padres   71  91  0.438  33.0\n",
      "4  San Francisco Giants   64  98  0.395  40.0\n",
      "                     Tm   W   L   W-L%    GB\n",
      "0   Los Angeles Dodgers  91  71  0.562    --\n",
      "1  San Francisco Giants  87  75  0.537   4.0\n",
      "2      Colorado Rockies  75  87  0.463  16.0\n",
      "3  Arizona Diamondbacks  69  93  0.426  22.0\n",
      "4      San Diego Padres  68  94  0.420  23.0\n",
      "                     Tm   W   L   W-L%    GB\n",
      "0   Los Angeles Dodgers  92  70  0.568    --\n",
      "1  San Francisco Giants  84  78  0.519   8.0\n",
      "2  Arizona Diamondbacks  79  83  0.488  13.0\n",
      "3      San Diego Padres  74  88  0.457  18.0\n",
      "4      Colorado Rockies  68  94  0.420  24.0\n",
      "                     Tm   W   L   W-L%    GB\n",
      "0   Los Angeles Dodgers  94  68  0.580    --\n",
      "1  San Francisco Giants  88  74  0.543   6.0\n",
      "2      San Diego Padres  77  85  0.475  17.0\n",
      "3      Colorado Rockies  66  96  0.407  28.0\n",
      "4  Arizona Diamondbacks  64  98  0.395  30.0\n",
      "                     Tm   W   L   W-L%    GB\n",
      "0   Los Angeles Dodgers  92  70  0.568    --\n",
      "1  Arizona Diamondbacks  81  81  0.500  11.0\n",
      "2      San Diego Padres  76  86  0.469  16.0\n",
      "3  San Francisco Giants  76  86  0.469  16.0\n",
      "4      Colorado Rockies  74  88  0.457  18.0\n",
      "                     Tm   W   L   W-L%    GB\n",
      "0  San Francisco Giants  94  68  0.580    --\n",
      "1   Los Angeles Dodgers  86  76  0.531   8.0\n",
      "2  Arizona Diamondbacks  81  81  0.500  13.0\n",
      "3      San Diego Padres  76  86  0.469  18.0\n",
      "4      Colorado Rockies  64  98  0.395  30.0\n",
      "                     Tm   W   L   W-L%    GB\n",
      "0  Arizona Diamondbacks  94  68  0.580    --\n",
      "1  San Francisco Giants  86  76  0.531   8.0\n",
      "2   Los Angeles Dodgers  82  79  0.509  11.5\n",
      "3      Colorado Rockies  73  89  0.451  21.0\n",
      "4      San Diego Padres  71  91  0.438  23.0\n",
      "                     Tm   W   L   W-L%    GB\n",
      "0  San Francisco Giants  92  70  0.568    --\n",
      "1      San Diego Padres  90  72  0.556   2.0\n",
      "2      Colorado Rockies  83  79  0.512   9.0\n",
      "3   Los Angeles Dodgers  80  82  0.494  12.0\n",
      "4  Arizona Diamondbacks  65  97  0.401  27.0\n",
      "                     Tm   W   L   W-L%    GB\n",
      "0   Los Angeles Dodgers  95  67  0.586    --\n",
      "1      Colorado Rockies  92  70  0.568   3.0\n",
      "2  San Francisco Giants  88  74  0.543   7.0\n",
      "3      San Diego Padres  75  87  0.463  20.0\n",
      "4  Arizona Diamondbacks  70  92  0.432  25.0\n",
      "                     Tm   W   L   W-L%    GB\n",
      "0   Los Angeles Dodgers  84  78  0.519    --\n",
      "1  Arizona Diamondbacks  82  80  0.506   2.0\n",
      "2      Colorado Rockies  74  88  0.457  10.0\n",
      "3  San Francisco Giants  72  90  0.444  12.0\n",
      "4      San Diego Padres  63  99  0.389  21.0\n",
      "                     Tm   W   L   W-L%    GB\n",
      "0  Arizona Diamondbacks  90  72  0.556    --\n",
      "1      Colorado Rockies  90  73  0.552   0.5\n",
      "2      San Diego Padres  89  74  0.546   1.5\n",
      "3   Los Angeles Dodgers  82  80  0.506   8.0\n",
      "4  San Francisco Giants  71  91  0.438  19.0\n",
      "                     Tm   W   L   W-L%    GB\n",
      "0      San Diego Padres  88  74  0.543    --\n",
      "1   Los Angeles Dodgers  88  74  0.543    --\n",
      "2  San Francisco Giants  76  85  0.472  11.5\n",
      "3  Arizona Diamondbacks  76  86  0.469  12.0\n",
      "4      Colorado Rockies  76  86  0.469  12.0\n",
      "                     Tm   W   L   W-L%    GB\n",
      "0      San Diego Padres  82  80  0.506    --\n",
      "1  Arizona Diamondbacks  77  85  0.475   5.0\n",
      "2  San Francisco Giants  75  87  0.463   7.0\n",
      "3   Los Angeles Dodgers  71  91  0.438  11.0\n",
      "4      Colorado Rockies  67  95  0.414  15.0\n",
      "                     Tm   W    L   W-L%    GB\n",
      "0   Los Angeles Dodgers  93   69  0.574    --\n",
      "1  San Francisco Giants  91   71  0.562   2.0\n",
      "2      San Diego Padres  87   75  0.537   6.0\n",
      "3      Colorado Rockies  68   94  0.420  25.0\n",
      "4  Arizona Diamondbacks  51  111  0.315  42.0\n",
      "                     Tm    W   L   W-L%    GB\n",
      "0  San Francisco Giants  100  61  0.621    --\n",
      "1   Los Angeles Dodgers   85  77  0.525  15.5\n",
      "2  Arizona Diamondbacks   84  78  0.519  16.5\n",
      "3      Colorado Rockies   74  88  0.457  26.5\n",
      "4      San Diego Padres   64  98  0.395  36.5\n",
      "                     Tm   W   L   W-L%    GB\n",
      "0  Arizona Diamondbacks  98  64  0.605    --\n",
      "1  San Francisco Giants  95  66  0.590   2.5\n",
      "2   Los Angeles Dodgers  92  70  0.568   6.0\n",
      "3      Colorado Rockies  73  89  0.451  25.0\n",
      "4      San Diego Padres  66  96  0.407  32.0\n",
      "                     Tm   W   L   W-L%    GB\n",
      "0  Arizona Diamondbacks  92  70  0.568    --\n",
      "1  San Francisco Giants  90  72  0.556   2.0\n",
      "2   Los Angeles Dodgers  86  76  0.531   6.0\n",
      "3      San Diego Padres  79  83  0.488  13.0\n",
      "4      Colorado Rockies  73  89  0.451  19.0\n",
      "                     Tm   W   L   W-L%    GB\n",
      "0  San Francisco Giants  97  65  0.599    --\n",
      "1   Los Angeles Dodgers  86  76  0.531  11.0\n",
      "2  Arizona Diamondbacks  85  77  0.525  12.0\n",
      "3      Colorado Rockies  82  80  0.506  15.0\n",
      "4      San Diego Padres  76  86  0.469  21.0\n"
     ]
    }
   ],
   "source": [
    "for year in standings_dfs:\n",
    "    print(year.head(8))"
   ]
  },
  {
   "cell_type": "code",
   "execution_count": null,
   "metadata": {},
   "outputs": [],
   "source": []
  }
 ],
 "metadata": {
  "kernelspec": {
   "display_name": "Python 3",
   "language": "python",
   "name": "python3"
  },
  "language_info": {
   "codemirror_mode": {
    "name": "ipython",
    "version": 3
   },
   "file_extension": ".py",
   "mimetype": "text/x-python",
   "name": "python",
   "nbconvert_exporter": "python",
   "pygments_lexer": "ipython3",
   "version": "3.11.1"
  },
  "orig_nbformat": 4
 },
 "nbformat": 4,
 "nbformat_minor": 2
}
