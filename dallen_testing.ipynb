{
 "cells": [
  {
   "cell_type": "code",
   "execution_count": 111,
   "metadata": {},
   "outputs": [],
   "source": [
    "# import libraries\n",
    "import requests\n",
    "from bs4 import BeautifulSoup\n",
    "import re\n",
    "import time\n",
    "import pandas as pd\n",
    "from time import sleep"
   ]
  },
  {
   "attachments": {},
   "cell_type": "markdown",
   "metadata": {},
   "source": [
    "GET THE MAIN SOUP"
   ]
  },
  {
   "cell_type": "code",
   "execution_count": 2,
   "metadata": {},
   "outputs": [],
   "source": [
    "main_url = 'https://www.baseball-reference.com'\n",
    "page = requests.get(main_url)\n",
    "main_soup = BeautifulSoup(page.content)"
   ]
  },
  {
   "attachments": {},
   "cell_type": "markdown",
   "metadata": {},
   "source": [
    "CRAWL TO THE STANDINGS PAGE AND GET THE SOUP"
   ]
  },
  {
   "cell_type": "code",
   "execution_count": 3,
   "metadata": {},
   "outputs": [
    {
     "name": "stdout",
     "output_type": "stream",
     "text": [
      "/leagues/MLB-standings.shtml\n"
     ]
    }
   ],
   "source": [
    "for this_soup in main_soup.find_all('a'):\n",
    "\n",
    "    if this_soup.get_text() == \"Standings\":\n",
    "        standings_url = this_soup.get(\"href\")\n",
    "        print(standings_url)\n",
    "        break\n",
    "\n",
    "page = requests.get(main_url + standings_url)\n",
    "standings_soup = BeautifulSoup(page.content)"
   ]
  },
  {
   "attachments": {},
   "cell_type": "markdown",
   "metadata": {},
   "source": [
    "CRAWL TO THE LEAGUES PAGE AND GET THE SOUP"
   ]
  },
  {
   "cell_type": "code",
   "execution_count": 4,
   "metadata": {},
   "outputs": [
    {
     "name": "stdout",
     "output_type": "stream",
     "text": [
      "/leagues/\n"
     ]
    }
   ],
   "source": [
    "for this_soup in main_soup.find_all('a'):\n",
    "    if this_soup.get_text() == \"Seasons\":\n",
    "        leagues_url = this_soup.get(\"href\")\n",
    "        print(leagues_url)\n",
    "        break\n",
    "\n",
    "page = requests.get(main_url + leagues_url)\n",
    "leagues_soup = BeautifulSoup(page.content)"
   ]
  },
  {
   "attachments": {},
   "cell_type": "markdown",
   "metadata": {},
   "source": [
    "GRAB THE WINNERS TABLE FROM THE LEAGUES PAGE"
   ]
  },
  {
   "cell_type": "code",
   "execution_count": 5,
   "metadata": {},
   "outputs": [
    {
     "name": "stdout",
     "output_type": "stream",
     "text": [
      "     Year  Lg               Champion               MVP\n",
      "0  2023.0  NL                    NaN               NaN\n",
      "1     NaN  AL                    NaN               NaN\n",
      "2  2022.0  NL  Philadelphia Phillies  Paul Goldschmidt\n",
      "3     NaN  AL         Houston Astros       Aaron Judge\n",
      "4  2021.0  NL         Atlanta Braves      Bryce Harper\n"
     ]
    }
   ],
   "source": [
    "winners_table = pd.read_html(main_url + leagues_url, match=\"Active Major Leagues\")\n",
    "winners_df = winners_table[0]\n",
    "print(winners_df.head())"
   ]
  },
  {
   "attachments": {},
   "cell_type": "markdown",
   "metadata": {},
   "source": [
    "GET THE LINKS TO THE STANDINGS EVERY YEAR"
   ]
  },
  {
   "cell_type": "code",
   "execution_count": 6,
   "metadata": {},
   "outputs": [
    {
     "name": "stdout",
     "output_type": "stream",
     "text": [
      "['/leagues/majors/2022-standings.shtml', '/leagues/majors/2021-standings.shtml', '/leagues/majors/2020-standings.shtml', '/leagues/majors/2019-standings.shtml', '/leagues/majors/2018-standings.shtml', '/leagues/majors/2017-standings.shtml', '/leagues/majors/2016-standings.shtml', '/leagues/majors/2015-standings.shtml', '/leagues/majors/2014-standings.shtml', '/leagues/majors/2013-standings.shtml', '/leagues/majors/2012-standings.shtml', '/leagues/majors/2011-standings.shtml', '/leagues/majors/2010-standings.shtml', '/leagues/majors/2009-standings.shtml', '/leagues/majors/2008-standings.shtml', '/leagues/majors/2007-standings.shtml', '/leagues/majors/2006-standings.shtml', '/leagues/majors/2005-standings.shtml', '/leagues/majors/2004-standings.shtml', '/leagues/majors/2003-standings.shtml', '/leagues/majors/2002-standings.shtml', '/leagues/majors/2001-standings.shtml', '/leagues/majors/2000-standings.shtml']\n"
     ]
    }
   ],
   "source": [
    "all_standings_urls = []\n",
    "for i in range(23):\n",
    "    for this_soup in standings_soup.find_all('a', {\"class\": \"button2 prev\"}):\n",
    "        if this_soup.get_text() == \"Previous Season\":\n",
    "            all_standings_urls.append(this_soup.get(\"href\"))\n",
    "            break\n",
    "    page = requests.get(main_url + all_standings_urls[i])\n",
    "    standings_soup = BeautifulSoup(page.content)\n",
    "\n",
    "print(all_standings_urls)\n"
   ]
  },
  {
   "attachments": {},
   "cell_type": "markdown",
   "metadata": {},
   "source": [
    "GET THE STANDINGS TABLES INTO DFS "
   ]
  },
  {
   "cell_type": "code",
   "execution_count": 21,
   "metadata": {},
   "outputs": [],
   "source": [
    "standings_dfs = []\n",
    "for current_url in all_standings_urls:\n",
    "    current_df = pd.read_html(main_url + current_url)\n",
    "    standings_dfs.append(current_df[5])"
   ]
  },
  {
   "attachments": {},
   "cell_type": "markdown",
   "metadata": {},
   "source": [
    "GET ALL THE LINKS to the teams stats by year"
   ]
  },
  {
   "cell_type": "code",
   "execution_count": 112,
   "metadata": {},
   "outputs": [
    {
     "name": "stdout",
     "output_type": "stream",
     "text": [
      "                     TEAM  YEAR                    URL\n",
      "0        New York Yankees  2022  /teams/NYY/2022.shtml\n",
      "1       Toronto Blue Jays  2022  /teams/TOR/2022.shtml\n",
      "2          Tampa Bay Rays  2022  /teams/TBR/2022.shtml\n",
      "3       Baltimore Orioles  2022  /teams/BAL/2022.shtml\n",
      "4          Boston Red Sox  2022  /teams/BOS/2022.shtml\n",
      "5     Cleveland Guardians  2022  /teams/CLE/2022.shtml\n",
      "6       Chicago White Sox  2022  /teams/CHW/2022.shtml\n",
      "7         Minnesota Twins  2022  /teams/MIN/2022.shtml\n",
      "8          Detroit Tigers  2022  /teams/DET/2022.shtml\n",
      "9      Kansas City Royals  2022  /teams/KCR/2022.shtml\n",
      "10         Houston Astros  2022  /teams/HOU/2022.shtml\n",
      "11       Seattle Mariners  2022  /teams/SEA/2022.shtml\n",
      "12     Los Angeles Angels  2022  /teams/LAA/2022.shtml\n",
      "13          Texas Rangers  2022  /teams/TEX/2022.shtml\n",
      "14      Oakland Athletics  2022  /teams/OAK/2022.shtml\n",
      "15         Atlanta Braves  2022  /teams/ATL/2022.shtml\n",
      "16          New York Mets  2022  /teams/NYM/2022.shtml\n",
      "17  Philadelphia Phillies  2022  /teams/PHI/2022.shtml\n",
      "18          Miami Marlins  2022  /teams/MIA/2022.shtml\n",
      "19   Washington Nationals  2022  /teams/WSN/2022.shtml\n",
      "20    St. Louis Cardinals  2022  /teams/STL/2022.shtml\n",
      "21      Milwaukee Brewers  2022  /teams/MIL/2022.shtml\n",
      "22           Chicago Cubs  2022  /teams/CHC/2022.shtml\n",
      "23        Cincinnati Reds  2022  /teams/CIN/2022.shtml\n",
      "24     Pittsburgh Pirates  2022  /teams/PIT/2022.shtml\n",
      "25    Los Angeles Dodgers  2022  /teams/LAD/2022.shtml\n",
      "26       San Diego Padres  2022  /teams/SDP/2022.shtml\n",
      "27   San Francisco Giants  2022  /teams/SFG/2022.shtml\n",
      "28   Arizona Diamondbacks  2022  /teams/ARI/2022.shtml\n",
      "29       Colorado Rockies  2022  /teams/COL/2022.shtml\n",
      "30         Tampa Bay Rays  2021  /teams/TBR/2021.shtml\n",
      "31         Boston Red Sox  2021  /teams/BOS/2021.shtml\n",
      "32       New York Yankees  2021  /teams/NYY/2021.shtml\n",
      "33      Toronto Blue Jays  2021  /teams/TOR/2021.shtml\n",
      "34      Baltimore Orioles  2021  /teams/BAL/2021.shtml\n",
      "                      TEAM  YEAR                    URL\n",
      "655   Arizona Diamondbacks  2001  /teams/ARI/2001.shtml\n",
      "656   San Francisco Giants  2001  /teams/SFG/2001.shtml\n",
      "657    Los Angeles Dodgers  2001  /teams/LAD/2001.shtml\n",
      "658       San Diego Padres  2001  /teams/SDP/2001.shtml\n",
      "659       Colorado Rockies  2001  /teams/COL/2001.shtml\n",
      "660       New York Yankees  2000  /teams/NYY/2000.shtml\n",
      "661         Boston Red Sox  2000  /teams/BOS/2000.shtml\n",
      "662      Toronto Blue Jays  2000  /teams/TOR/2000.shtml\n",
      "663      Baltimore Orioles  2000  /teams/BAL/2000.shtml\n",
      "664   Tampa Bay Devil Rays  2000  /teams/TBD/2000.shtml\n",
      "665      Chicago White Sox  2000  /teams/CHW/2000.shtml\n",
      "666      Cleveland Indians  2000  /teams/CLE/2000.shtml\n",
      "667         Detroit Tigers  2000  /teams/DET/2000.shtml\n",
      "668     Kansas City Royals  2000  /teams/KCR/2000.shtml\n",
      "669        Minnesota Twins  2000  /teams/MIN/2000.shtml\n",
      "670      Oakland Athletics  2000  /teams/OAK/2000.shtml\n",
      "671       Seattle Mariners  2000  /teams/SEA/2000.shtml\n",
      "672         Anaheim Angels  2000  /teams/ANA/2000.shtml\n",
      "673          Texas Rangers  2000  /teams/TEX/2000.shtml\n",
      "674         Atlanta Braves  2000  /teams/ATL/2000.shtml\n",
      "675          New York Mets  2000  /teams/NYM/2000.shtml\n",
      "676        Florida Marlins  2000  /teams/FLA/2000.shtml\n",
      "677         Montreal Expos  2000  /teams/MON/2000.shtml\n",
      "678  Philadelphia Phillies  2000  /teams/PHI/2000.shtml\n",
      "679    St. Louis Cardinals  2000  /teams/STL/2000.shtml\n",
      "680        Cincinnati Reds  2000  /teams/CIN/2000.shtml\n",
      "681      Milwaukee Brewers  2000  /teams/MIL/2000.shtml\n",
      "682         Houston Astros  2000  /teams/HOU/2000.shtml\n",
      "683     Pittsburgh Pirates  2000  /teams/PIT/2000.shtml\n",
      "684           Chicago Cubs  2000  /teams/CHC/2000.shtml\n",
      "685   San Francisco Giants  2000  /teams/SFG/2000.shtml\n",
      "686    Los Angeles Dodgers  2000  /teams/LAD/2000.shtml\n",
      "687   Arizona Diamondbacks  2000  /teams/ARI/2000.shtml\n",
      "688       Colorado Rockies  2000  /teams/COL/2000.shtml\n",
      "689       San Diego Padres  2000  /teams/SDP/2000.shtml\n"
     ]
    }
   ],
   "source": [
    "all_teams_urls = pd.DataFrame()\n",
    "for current_url in all_standings_urls:\n",
    "    page = requests.get(main_url + current_url)\n",
    "    teams_soup = BeautifulSoup(page.content)\n",
    "    overall = teams_soup.find_all('table')\n",
    "    for this_table in overall:\n",
    "        for inner_soup in this_table.find_all('a'):\n",
    "            temp_ser = {}\n",
    "\n",
    "            temp_ser[\"TEAM\"] = inner_soup.get_text()\n",
    "\n",
    "            temp_split= inner_soup.get(\"href\").split('/')\n",
    "            temp_year = temp_split[3].split('.')\n",
    "            temp_ser[\"YEAR\"] = temp_year[0]\n",
    "\n",
    "            temp_ser[\"URL\"] = inner_soup.get(\"href\")\n",
    "\n",
    "            new_row = pd.Series(temp_ser)\n",
    "            all_teams_urls = pd.concat([all_teams_urls, new_row.to_frame().T], ignore_index=True)\n",
    "    sleep(30)\n",
    "\n",
    "\n",
    "print(all_teams_urls.head(35))\n",
    "print(all_teams_urls.tail(35))\n"
   ]
  },
  {
   "attachments": {},
   "cell_type": "markdown",
   "metadata": {},
   "source": [
    "DECIDE WHICH TEAMS STATS I WANT TO GRAB"
   ]
  },
  {
   "cell_type": "code",
   "execution_count": 122,
   "metadata": {},
   "outputs": [],
   "source": [
    "these_teams = [[\"New York Yankees\", 2022], [\"Boston Red Sox\", 2022]]"
   ]
  },
  {
   "attachments": {},
   "cell_type": "markdown",
   "metadata": {},
   "source": [
    "GET THE SOUP TO THE TEAM STATS BY YEAR, THEN GET THE LINKS TO THE BATTING GAME LOGS AND THE PITCHING GAME LOGS"
   ]
  },
  {
   "cell_type": "code",
   "execution_count": 134,
   "metadata": {},
   "outputs": [],
   "source": [
    "batting_pitching_logs = []\n",
    "for team, year in these_teams:\n",
    "    new = all_teams_urls.loc[(all_teams_urls['YEAR'] == str(year)) & (all_teams_urls['TEAM'] == team), ['URL']]\n",
    "    current_url = new.iloc[0][\"URL\"]\n",
    "    page = requests.get(main_url + current_url)\n",
    "    year_team_soup = BeautifulSoup(page.content)\n",
    "\n",
    "    for this_li in year_team_soup.find_all(\"li\", {\"class\" : \"full hasmore\"}):\n",
    "        for this_href in this_li.find_all(\"a\"):\n",
    "            if this_href.get_text() == \"Game Logs\":\n",
    "                batting_pitching_logs.append(this_href.get(\"href\"))\n"
   ]
  },
  {
   "attachments": {},
   "cell_type": "markdown",
   "metadata": {},
   "source": [
    "GET THE BATTING AND PITCHING DATA"
   ]
  },
  {
   "cell_type": "code",
   "execution_count": 138,
   "metadata": {},
   "outputs": [
    {
     "name": "stdout",
     "output_type": "stream",
     "text": [
      "  Rk Gtm    Date Unnamed: 3  Opp   Rslt  PA  AB  R   H  ... SB CS    BA   OBP  \\\n",
      "0  1   1   Apr 8        NaN  BOS  W,6-5  46  39  6   9  ...  0  0  .231  .326   \n",
      "1  2   2   Apr 9        NaN  BOS  W,4-2  30  27  4   4  ...  0  0  .197  .289   \n",
      "2  3   3  Apr 10        NaN  BOS  L,3-4  41  36  3  11  ...  1  0  .235  .325   \n",
      "3  4   4  Apr 11        NaN  TOR  L,0-3  35  29  0   4  ...  0  0  .214  .316   \n",
      "4  5   5  Apr 12        NaN  TOR  W,4-0  33  28  4   7  ...  0  0  .220  .319   \n",
      "\n",
      "    SLG   OPS LOB   # Thr Opp. Starter (GmeSc)  \n",
      "0  .487  .813  12  12   R        N.Eovaldi(51)  \n",
      "1  .439  .729   2  10   R        N.Pivetta(46)  \n",
      "2  .412  .737  11  11   R          T.Houck(36)  \n",
      "3  .351  .667   8  10   R         A.Manoah(73)  \n",
      "4  .377  .696   5  10   L        Y.Kikuchi(40)  \n",
      "\n",
      "[5 rows x 32 columns]\n",
      "    Avg   0   1   2   3   4   5   6   7  8  9  \\\n",
      "0  5.06  12  15  25  17  14  19  15  11  5  7   \n",
      "\n",
      "                                   Other Game Totals  \n",
      "0  10, 10, 10, 10, 10, 10, 10, 11, 12, 12, 12, 12...  \n",
      "  Rk Gtm    Date Unnamed: 3  Opp   Rslt  PA  AB  R  H  ... SB CS    BA   OBP  \\\n",
      "0  1   1   Apr 8          @  NYY  L,5-6  43  39  5  9  ...  0  0  .231  .302   \n",
      "1  2   2   Apr 9          @  NYY  L,2-4  37  33  2  5  ...  0  0  .194  .275   \n",
      "2  3   3  Apr 10          @  NYY  W,4-3  37  30  4  5  ...  0  0  .186  .274   \n",
      "3  4   4  Apr 11          @  DET  L,1-3  31  31  1  4  ...  0  0  .173  .243   \n",
      "4  5   5  Apr 12          @  DET  W,5-3  38  34  5  9  ...  0  0  .192  .259   \n",
      "\n",
      "    SLG   OPS LOB   # Thr Opp. Starter (GmeSc)  \n",
      "0  .359  .661   7  12   R           G.Cole(44)  \n",
      "1  .333  .608   8  10   R       L.Severino(46)  \n",
      "2  .324  .597   6  10   L     J.Montgomery(43)  \n",
      "3  .308  .552   3   9   R        M.Manning(68)  \n",
      "4  .317  .577   6  10   L      T.Alexander(50)  \n",
      "\n",
      "[5 rows x 32 columns]\n",
      "    Avg  0   1   2   3   4   5   6  7  8  9  \\\n",
      "0  4.62  8  18  22  16  24  27  16  8  7  5   \n",
      "\n",
      "                                   Other Game Totals  \n",
      "0  10, 10, 11, 11, 12, 12, 13, 13, 16, 16 and 17 ...  \n"
     ]
    }
   ],
   "source": [
    "for current_url in batting_pitching_logs:\n",
    "    this_df = pd.read_html(main_url + current_url)\n",
    "    print(this_df[0].head())"
   ]
  },
  {
   "cell_type": "code",
   "execution_count": null,
   "metadata": {},
   "outputs": [],
   "source": []
  }
 ],
 "metadata": {
  "kernelspec": {
   "display_name": "Python 3",
   "language": "python",
   "name": "python3"
  },
  "language_info": {
   "codemirror_mode": {
    "name": "ipython",
    "version": 3
   },
   "file_extension": ".py",
   "mimetype": "text/x-python",
   "name": "python",
   "nbconvert_exporter": "python",
   "pygments_lexer": "ipython3",
   "version": "3.11.1"
  },
  "orig_nbformat": 4
 },
 "nbformat": 4,
 "nbformat_minor": 2
}
