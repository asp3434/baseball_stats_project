{
 "cells": [
  {
   "attachments": {},
   "cell_type": "markdown",
   "metadata": {},
   "source": [
    "# Proposal\n",
    "### Basic Information\n",
    "Title: Baseball Statistic\n",
    "\n",
    "### Background and Motivation\n",
    "\n",
    "### Project Objectives\n",
    "\n",
    "### Data Description and Acquisition\n",
    "\n",
    "### Ethical Considerations\n",
    "\n",
    "### Data Cleaning and Processing\n",
    "\n",
    "### Exploratory Analysis\n",
    "\n",
    "### Analysis Methodology\n",
    "\n",
    "### Project Schedule"
   ]
  },
  {
   "attachments": {},
   "cell_type": "markdown",
   "metadata": {},
   "source": [
    "### Background and Motivation\n",
    "The baseball statistics project was chosen primarily due to the ease of access to a plethora of data. Addtionally, two of the group members have had experience playing and watching baseball for many years. The available data combined with the background knowledge the team establishes a good foundation to be successful in this project."
   ]
  }
 ],
 "metadata": {
  "language_info": {
   "name": "python"
  },
  "orig_nbformat": 4
 },
 "nbformat": 4,
 "nbformat_minor": 2
}
