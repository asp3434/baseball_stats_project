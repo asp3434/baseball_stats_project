{
 "cells": [
  {
   "attachments": {},
   "cell_type": "markdown",
   "metadata": {},
   "source": [
    "# Proposal\n",
    "### Basic Information\n",
    "\n",
    "### Background and Motivation\n",
    "\n",
    "### Project Objectives\n",
    "\n",
    "### Data Description and Acquisition\n",
    "\n",
    "### Ethical Considerations\n",
    "\n",
    "### Data Cleaning and Processing\n",
    "\n",
    "### Exploratory Analysis\n",
    "\n",
    "### Analysis Methodology\n",
    "\n",
    "### Project Schedule"
   ]
  },
  {
   "cell_type": "markdown",
   "metadata": {},
   "source": []
  }
 ],
 "metadata": {
  "language_info": {
   "name": "python"
  },
  "orig_nbformat": 4
 },
 "nbformat": 4,
 "nbformat_minor": 2
}
